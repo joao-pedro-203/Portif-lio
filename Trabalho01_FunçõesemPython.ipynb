{
  "nbformat": 4,
  "nbformat_minor": 0,
  "metadata": {
    "colab": {
      "provenance": [],
      "authorship_tag": "ABX9TyM63xFsIuhtEkeJKPg+0xvI",
      "include_colab_link": true
    },
    "kernelspec": {
      "name": "python3",
      "display_name": "Python 3"
    },
    "language_info": {
      "name": "python"
    }
  },
  "cells": [
    {
      "cell_type": "markdown",
      "metadata": {
        "id": "view-in-github",
        "colab_type": "text"
      },
      "source": [
        "<a href=\"https://colab.research.google.com/github/joao-pedro-203/Portif-lio/blob/main/Trabalho01_Fun%C3%A7%C3%B5esemPython.ipynb\" target=\"_parent\"><img src=\"https://colab.research.google.com/assets/colab-badge.svg\" alt=\"Open In Colab\"/></a>"
      ]
    },
    {
      "cell_type": "code",
      "source": [
        "nota1 = float(input(\"Qual a nota em Matemática? \"))\n",
        "nota2 = float(input(\"Qual a nota em Português? \"))\n",
        "nota3 = float(input(\"Qual a nota em História? \"))\n",
        "nota4 = float(input(\"Qual a nota em Geografia? \"))\n",
        "notas = [nota1, nota2, nota3, nota4]\n",
        "\n",
        "def calcular_media(notas):\n",
        "  total = sum(notas)\n",
        "  media = total / len(notas)\n",
        "  return media\n",
        "\n",
        "arredondar_media = lambda media: round(media, 2)\n",
        "media = calcular_media(notas)\n",
        "media_arrendondada = arredondar_media(media)\n",
        "\n",
        "if media >= 7:\n",
        "  print(\"\\nSituação: Aprovado(a)\")\n",
        "else:\n",
        "  print(\"\\nSituação: Reprovado(a)\")\n",
        "\n",
        "print(f\"Notas: {notas}\")\n",
        "print(f\"Média: {media_arrendondada}\")"
      ],
      "metadata": {
        "colab": {
          "base_uri": "https://localhost:8080/"
        },
        "id": "lq69IAQgx9yn",
        "outputId": "ee30f85a-94ce-41ba-ffe1-47c46a7841aa"
      },
      "execution_count": null,
      "outputs": [
        {
          "output_type": "stream",
          "name": "stdout",
          "text": [
            "Qual a nota em Matemática? 10\n",
            "Qual a nota em Português? 5.5\n",
            "Qual a nota em História? 6\n",
            "Qual a nota em Geografia? 9\n",
            "\n",
            "Situação: Aprovado(a)\n",
            "Notas: [10.0, 5.5, 6.0, 9.0]\n",
            "Média: 7.62\n"
          ]
        }
      ]
    }
  ]
}