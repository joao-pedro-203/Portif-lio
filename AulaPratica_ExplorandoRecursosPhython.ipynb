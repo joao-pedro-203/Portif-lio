{
  "nbformat": 4,
  "nbformat_minor": 0,
  "metadata": {
    "colab": {
      "provenance": [],
      "authorship_tag": "ABX9TyNg3jq1XgxIK99d/umvvQzm",
      "include_colab_link": true
    },
    "kernelspec": {
      "name": "python3",
      "display_name": "Python 3"
    },
    "language_info": {
      "name": "python"
    }
  },
  "cells": [
    {
      "cell_type": "markdown",
      "metadata": {
        "id": "view-in-github",
        "colab_type": "text"
      },
      "source": [
        "<a href=\"https://colab.research.google.com/github/joao-pedro-203/Portif-lio/blob/main/AulaPratica_ExplorandoRecursosPhython.ipynb\" target=\"_parent\"><img src=\"https://colab.research.google.com/assets/colab-badge.svg\" alt=\"Open In Colab\"/></a>"
      ]
    },
    {
      "cell_type": "code",
      "execution_count": 7,
      "metadata": {
        "colab": {
          "base_uri": "https://localhost:8080/"
        },
        "id": "Z8UKgrSwJty4",
        "outputId": "a7784e8a-9d09-4f53-d943-ae7e349f71b1"
      },
      "outputs": [
        {
          "output_type": "stream",
          "name": "stdout",
          "text": [
            "\n",
            "--Biblioteca Online--\n",
            "\n",
            "1. Adicionar livro\n",
            "2. Listar livros\n",
            "3. Filtrar livros\n",
            "4. Gráfico de livros por gênero\n",
            "5. Sair\n",
            "Escolha uma opção: 4\n",
            "\n",
            "A biblioteca está vazia.\n",
            "\n",
            "--Biblioteca Online--\n",
            "\n",
            "1. Adicionar livro\n",
            "2. Listar livros\n",
            "3. Filtrar livros\n",
            "4. Gráfico de livros por gênero\n",
            "5. Sair\n",
            "Escolha uma opção: 5\n",
            "\n",
            "Saindo do programa...\n"
          ]
        }
      ],
      "source": [
        "from typing import Counter\n",
        "import matplotlib.pyplot as plt\n",
        "import difflib\n",
        "\n",
        "def mostrar_menu():\n",
        "  print(\"\\n--Biblioteca Online--\\n\")\n",
        "  print(\"1. Adicionar livro\")\n",
        "  print(\"2. Listar livros\")\n",
        "  print(\"3. Filtrar livros\")\n",
        "  print(\"4. Gráfico de livros por gênero\")\n",
        "  print(\"5. Sair\")\n",
        "\n",
        "class Livros:\n",
        "  def __init__(self,Título,Autor,Gênero,Quantidade):\n",
        "    self.Título = Título\n",
        "    self.Autor = Autor\n",
        "    self.Gênero = Gênero\n",
        "    self.Quantidade = Quantidade\n",
        "\n",
        "  def __str__(self):\n",
        "    return f\"{self.Título} por {self.Autor} do gênero {self.Gênero}, cópias disponiveis {self.Quantidade}\"\n",
        "\n",
        "biblioteca = []\n",
        "\n",
        "def new_book():\n",
        "  Título = input(\"Digite o título do livro: \")\n",
        "  Autor = input(\"Digite o nome do autor: \")\n",
        "  Gênero = input(\"Digite o gênero do livro: \")\n",
        "  Quantidade = int(input(\"Digite a quantidade de livros: \"))\n",
        "  novo_livro = Livros (Título,Autor,Gênero,Quantidade)\n",
        "  biblioteca.append(novo_livro)\n",
        "  print(f\"\\nO {Título} foi adicionado à biblioteca.\")\n",
        "\n",
        "def listar_livros():\n",
        "  if biblioteca:\n",
        "    print(\"\\nLivros na Biblioteca: \")\n",
        "    for livro in biblioteca:\n",
        "      print(livro)\n",
        "\n",
        "  else:\n",
        "    print(\"\\nA biblioteca está vazia.\")\n",
        "\n",
        "def grafico_genero():\n",
        "  if biblioteca == []:\n",
        "    print(\"\\nA biblioteca está vazia.\")\n",
        "  else:\n",
        "    contagem_genero = Counter(livro.Gênero for livro in biblioteca)\n",
        "    generos = list(contagem_genero.keys())\n",
        "    quantidade = list(contagem_genero.values())\n",
        "    plt.title(\"Quantidade de Livros por Gênero\")\n",
        "    plt.bar(generos, quantidade, color=\"Skyblue\")\n",
        "    plt.xlabel(\"Gênero\")\n",
        "    plt.ylabel(\"Quantidade\")\n",
        "    plt.show()\n",
        "\n",
        "def buscar_livros():\n",
        "  titulo_busca = input(\"Digite o título do livro que deseja buscar: \")\n",
        "  for Livros in biblioteca:\n",
        "    if Livros.Título.lower() == titulo_busca.lower():\n",
        "      return print(f\"\\nLivro encontrado: {Livros}\")\n",
        "    else:\n",
        "      print(\"Livro não encontrado.\")\n",
        "\n",
        "\n",
        "while True:\n",
        "  mostrar_menu()\n",
        "  opcao = input(\"Escolha uma opção: \")\n",
        "  if opcao == \"1\":\n",
        "    new_book()\n",
        "  elif opcao == \"2\":\n",
        "    listar_livros()\n",
        "  elif opcao == \"3\":\n",
        "    buscar_livros()\n",
        "  elif opcao == \"4\":\n",
        "    grafico_genero()\n",
        "  elif opcao == \"5\":\n",
        "    print(\"\\nSaindo do programa...\")\n",
        "    break\n",
        "  else:\n",
        "    print(\"\\nOpção inválida.\")"
      ]
    }
  ]
}